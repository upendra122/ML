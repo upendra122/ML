{
  "nbformat": 4,
  "nbformat_minor": 0,
  "metadata": {
    "colab": {
      "name": "Untitled3.ipynb",
      "version": "0.3.2",
      "provenance": [],
      "collapsed_sections": [],
      "toc_visible": true,
      "include_colab_link": true
    },
    "kernelspec": {
      "name": "python3",
      "display_name": "Python 3"
    }
  },
  "cells": [
    {
      "cell_type": "markdown",
      "metadata": {
        "id": "view-in-github",
        "colab_type": "text"
      },
      "source": [
        "[View in Colaboratory](https://colab.research.google.com/github/upendra122/ML/blob/master/Gender_Classification.ipynb)"
      ]
    },
    {
      "metadata": {
        "id": "3N7j5pI_Fy15",
        "colab_type": "code",
        "colab": {}
      },
      "cell_type": "code",
      "source": [
        "!pip install -U -q PyDrive\n",
        "from pydrive.auth import GoogleAuth\n",
        "from pydrive.drive import GoogleDrive\n",
        "from google.colab import auth\n",
        "from oauth2client.client import GoogleCredentials\n",
        "import zipfile\n",
        "import io\n",
        "auth.authenticate_user()\n",
        "gauth = GoogleAuth()\n",
        "gauth.credentials = GoogleCredentials.get_application_default()\n",
        "drive = GoogleDrive(gauth)\n",
        "\n",
        "\n",
        "\n",
        "\n"
      ],
      "execution_count": 0,
      "outputs": []
    },
    {
      "metadata": {
        "id": "WuzR1jMUOczU",
        "colab_type": "code",
        "colab": {}
      },
      "cell_type": "code",
      "source": [
        "\n",
        "file_id = '1DkaG9MQt0k7vUNxBhjUjIYU74FZgm9No'\n",
        "file_id.encode('utf-8').strip()\n",
        "downloaded = drive.CreateFile({'id': file_id})\n"
      ],
      "execution_count": 0,
      "outputs": []
    },
    {
      "metadata": {
        "id": "wy87qcuDU8WU",
        "colab_type": "code",
        "colab": {}
      },
      "cell_type": "code",
      "source": [
        "downloaded.GetContentFile('wiki5.csv.zip')"
      ],
      "execution_count": 0,
      "outputs": []
    },
    {
      "metadata": {
        "id": "-s7S_BP-V5zC",
        "colab_type": "code",
        "colab": {
          "base_uri": "https://localhost:8080/",
          "height": 51
        },
        "outputId": "02232236-503e-4535-eb6d-6ae5cc4c9186"
      },
      "cell_type": "code",
      "source": [
        "!unzip wiki5.csv.zip -d gender_data"
      ],
      "execution_count": 5,
      "outputs": [
        {
          "output_type": "stream",
          "text": [
            "Archive:  wiki5.csv.zip\n",
            "  inflating: gender_data/wiki5.csv   \n"
          ],
          "name": "stdout"
        }
      ]
    },
    {
      "metadata": {
        "id": "H142Un-RTT8s",
        "colab_type": "code",
        "colab": {}
      },
      "cell_type": "code",
      "source": [
        "import pandas as pd\n",
        "import numpy as np\n",
        "import matplotlib.pyplot as ptl\n",
        "import cv2\n",
        "from sklearn.decomposition import PCA\n",
        "from sklearn.model_selection import train_test_split\n",
        "from sklearn import svm"
      ],
      "execution_count": 0,
      "outputs": []
    },
    {
      "metadata": {
        "id": "-SIjzCIYTWcU",
        "colab_type": "code",
        "colab": {}
      },
      "cell_type": "code",
      "source": [
        "data=pd.read_csv('gender_data/wiki5.csv')"
      ],
      "execution_count": 0,
      "outputs": []
    },
    {
      "metadata": {
        "id": "B3tPz3-FTkhY",
        "colab_type": "code",
        "colab": {}
      },
      "cell_type": "code",
      "source": [
        "arr=np.array(data)"
      ],
      "execution_count": 0,
      "outputs": []
    },
    {
      "metadata": {
        "id": "6MXLheZZT7t3",
        "colab_type": "code",
        "colab": {}
      },
      "cell_type": "code",
      "source": [
        "label=np.array(data['gender'])"
      ],
      "execution_count": 0,
      "outputs": []
    },
    {
      "metadata": {
        "id": "J-af11gEUBms",
        "colab_type": "code",
        "colab": {
          "base_uri": "https://localhost:8080/",
          "height": 366
        },
        "outputId": "41a8a7cb-46fd-40dd-885c-ecf8d2e9afbf"
      },
      "cell_type": "code",
      "source": [
        "label=label[:3208]\n",
        "a=np.zeros((3208,10000))\n",
        "for i in range(0,3208):\n",
        "    m=0\n",
        "    for j in range(3,10003):\n",
        "        a[i][m]=arr[i][j]\n",
        "        m+=1"
      ],
      "execution_count": 11,
      "outputs": [
        {
          "output_type": "execute_result",
          "data": {
            "text/plain": [
              "<matplotlib.image.AxesImage at 0x7f6aad5a2828>"
            ]
          },
          "metadata": {
            "tags": []
          },
          "execution_count": 11
        },
        {
          "output_type": "display_data",
          "data": {
            "image/png": "[encoded data removed]",
            "text/plain": [
              "<matplotlib.figure.Figure at 0x7f6aae3ccf98>"
            ]
          },
          "metadata": {
            "tags": []
          }
        }
      ]
    },
    {
      "metadata": {
        "id": "6HoDOI9tUg5r",
        "colab_type": "code",
        "colab": {}
      },
      "cell_type": "code",
      "source": [
        "\n",
        "images=a"
      ],
      "execution_count": 0,
      "outputs": []
    },
    {
      "metadata": {
        "id": "g-GH7oWMUtz3",
        "colab_type": "code",
        "colab": {}
      },
      "cell_type": "code",
      "source": [
        "images_flat = np.array([i.reshape((10000,))for i in images])\n",
        "x_train,x_test,y_train,y_test= train_test_split(images_flat,label,test_size=0.3,\n",
        "                                                random_state=0)"
      ],
      "execution_count": 0,
      "outputs": []
    },
    {
      "metadata": {
        "id": "i7ItlvReUzjL",
        "colab_type": "code",
        "colab": {
          "base_uri": "https://localhost:8080/",
          "height": 34
        },
        "outputId": "d3d4144d-d784-491e-d090-d95511eaa350"
      },
      "cell_type": "code",
      "source": [
        "pca=PCA(n_components=600)\n",
        "pca.fit(x_train)\n",
        "x_train_= pca.transform(x_train)\n",
        "pca=PCA(n_components=600)\n",
        "pca.fit(x_test)\n",
        "x_test_= pca.transform(x_test)\n",
        "clf=svm.SVC()\n",
        "clf.fit(x_train_,y_train)\n",
        "prediction=clf.predict(x_test_)\n",
        "pred_labels = prediction == y_test\n",
        "acc=0.0\n",
        "for i in pred_labels:\n",
        "    if i==True:\n",
        "        acc+=1\n",
        "print ('SVM accuracy=',(acc)/len(pred_labels)*100,'%')"
      ],
      "execution_count": 14,
      "outputs": [
        {
          "output_type": "stream",
          "text": [
            "SVM accuracy= 57.52855659397716 %\n"
          ],
          "name": "stdout"
        }
      ]
    }
  ]
}